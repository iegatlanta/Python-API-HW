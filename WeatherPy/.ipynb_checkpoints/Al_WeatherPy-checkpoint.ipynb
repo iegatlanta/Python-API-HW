{
 "cells": [
  {
   "cell_type": "markdown",
   "metadata": {},
   "source": [
    "# WeatherPy\n",
    "----\n",
    "\n",
    "#### Note\n",
    "* Instructions have been included for each segment. You do not have to follow them exactly, but they are included to help you think through the steps."
   ]
  },
  {
   "cell_type": "code",
   "execution_count": 1,
   "metadata": {
    "scrolled": true
   },
   "outputs": [],
   "source": [
    "# Dependencies and Setup\n",
    "%matplotlib inline\n",
    "\n",
    "\n",
    "import matplotlib.pyplot as plt\n",
    "import pandas as pd\n",
    "import numpy as np\n",
    "import requests\n",
    "import time\n",
    "from scipy.stats import linregress\n",
    "import os\n",
    "import csv\n",
    "import json\n",
    "# Import API key\n",
    "from api_keys import weather_api_key\n",
    "from config import weather_api_key\n",
    "#print(weather_api_key)\n",
    "# Incorporated citipy to determine city based on latitude and longitude\n",
    "from citipy import citipy\n",
    "\n",
    "# Output File (CSV)\n",
    "output_data_file = \"output_data/cities.csv\"\n",
    "\n",
    "# Range of latitudes and longitudes\n",
    "lat_range = (-90, 90)\n",
    "lng_range = (-180, 180)"
   ]
  },
  {
   "cell_type": "markdown",
   "metadata": {},
   "source": [
    "## Generate Cities List"
   ]
  },
  {
   "cell_type": "code",
   "execution_count": 2,
   "metadata": {
    "scrolled": true
   },
   "outputs": [],
   "source": [
    "#pip install citipy"
   ]
  },
  {
   "cell_type": "code",
   "execution_count": 2,
   "metadata": {},
   "outputs": [
    {
     "data": {
      "text/plain": [
       "621"
      ]
     },
     "execution_count": 2,
     "metadata": {},
     "output_type": "execute_result"
    }
   ],
   "source": [
    "# List for holding lat_lngs and cities\n",
    "lat_lngs = []\n",
    "cities = []\n",
    "countries = []\n",
    "\n",
    "# Create a set of random lat and lng combinations\n",
    "lats = np.random.uniform(lat_range[0], lat_range[1], size=1500)\n",
    "lngs = np.random.uniform(lng_range[0], lng_range[1], size=1500)\n",
    "lat_lngs = zip(lats, lngs)\n",
    "\n",
    "# Identify nearest city for each lat, lng combination\n",
    "for lat_lng in lat_lngs:\n",
    "    city = citipy.nearest_city(lat_lng[0], lat_lng[1]).city_name\n",
    "    country = citipy.nearest_city(lat_lng[0], lat_lng[1]).country_code\n",
    "    \n",
    "    \n",
    "    # If the city is unique, then add it to a our cities list\n",
    "    if city not in cities:\n",
    "        cities.append(city)\n",
    "\n",
    "        \n",
    "        \n",
    "# Print the city count to confirm sufficient count\n",
    "len(cities)"
   ]
  },
  {
   "cell_type": "code",
   "execution_count": 3,
   "metadata": {},
   "outputs": [
    {
     "data": {
      "text/html": [
       "<div>\n",
       "<style scoped>\n",
       "    .dataframe tbody tr th:only-of-type {\n",
       "        vertical-align: middle;\n",
       "    }\n",
       "\n",
       "    .dataframe tbody tr th {\n",
       "        vertical-align: top;\n",
       "    }\n",
       "\n",
       "    .dataframe thead th {\n",
       "        text-align: right;\n",
       "    }\n",
       "</style>\n",
       "<table border=\"1\" class=\"dataframe\">\n",
       "  <thead>\n",
       "    <tr style=\"text-align: right;\">\n",
       "      <th></th>\n",
       "      <th>City</th>\n",
       "      <th>Cloudiness</th>\n",
       "      <th>Country</th>\n",
       "      <th>Date</th>\n",
       "      <th>Humidity</th>\n",
       "      <th>Lat</th>\n",
       "      <th>Lng</th>\n",
       "      <th>Max Temp</th>\n",
       "      <th>Windspeed</th>\n",
       "    </tr>\n",
       "  </thead>\n",
       "  <tbody>\n",
       "    <tr>\n",
       "      <th>0</th>\n",
       "      <td>colares</td>\n",
       "      <td></td>\n",
       "      <td></td>\n",
       "      <td></td>\n",
       "      <td></td>\n",
       "      <td></td>\n",
       "      <td></td>\n",
       "      <td></td>\n",
       "      <td></td>\n",
       "    </tr>\n",
       "    <tr>\n",
       "      <th>1</th>\n",
       "      <td>barrow</td>\n",
       "      <td></td>\n",
       "      <td></td>\n",
       "      <td></td>\n",
       "      <td></td>\n",
       "      <td></td>\n",
       "      <td></td>\n",
       "      <td></td>\n",
       "      <td></td>\n",
       "    </tr>\n",
       "    <tr>\n",
       "      <th>2</th>\n",
       "      <td>avarua</td>\n",
       "      <td></td>\n",
       "      <td></td>\n",
       "      <td></td>\n",
       "      <td></td>\n",
       "      <td></td>\n",
       "      <td></td>\n",
       "      <td></td>\n",
       "      <td></td>\n",
       "    </tr>\n",
       "    <tr>\n",
       "      <th>3</th>\n",
       "      <td>hasaki</td>\n",
       "      <td></td>\n",
       "      <td></td>\n",
       "      <td></td>\n",
       "      <td></td>\n",
       "      <td></td>\n",
       "      <td></td>\n",
       "      <td></td>\n",
       "      <td></td>\n",
       "    </tr>\n",
       "    <tr>\n",
       "      <th>4</th>\n",
       "      <td>kunming</td>\n",
       "      <td></td>\n",
       "      <td></td>\n",
       "      <td></td>\n",
       "      <td></td>\n",
       "      <td></td>\n",
       "      <td></td>\n",
       "      <td></td>\n",
       "      <td></td>\n",
       "    </tr>\n",
       "    <tr>\n",
       "      <th>...</th>\n",
       "      <td>...</td>\n",
       "      <td>...</td>\n",
       "      <td>...</td>\n",
       "      <td>...</td>\n",
       "      <td>...</td>\n",
       "      <td>...</td>\n",
       "      <td>...</td>\n",
       "      <td>...</td>\n",
       "      <td>...</td>\n",
       "    </tr>\n",
       "    <tr>\n",
       "      <th>616</th>\n",
       "      <td>monrovia</td>\n",
       "      <td></td>\n",
       "      <td></td>\n",
       "      <td></td>\n",
       "      <td></td>\n",
       "      <td></td>\n",
       "      <td></td>\n",
       "      <td></td>\n",
       "      <td></td>\n",
       "    </tr>\n",
       "    <tr>\n",
       "      <th>617</th>\n",
       "      <td>halalo</td>\n",
       "      <td></td>\n",
       "      <td></td>\n",
       "      <td></td>\n",
       "      <td></td>\n",
       "      <td></td>\n",
       "      <td></td>\n",
       "      <td></td>\n",
       "      <td></td>\n",
       "    </tr>\n",
       "    <tr>\n",
       "      <th>618</th>\n",
       "      <td>seoul</td>\n",
       "      <td></td>\n",
       "      <td></td>\n",
       "      <td></td>\n",
       "      <td></td>\n",
       "      <td></td>\n",
       "      <td></td>\n",
       "      <td></td>\n",
       "      <td></td>\n",
       "    </tr>\n",
       "    <tr>\n",
       "      <th>619</th>\n",
       "      <td>dubrajpur</td>\n",
       "      <td></td>\n",
       "      <td></td>\n",
       "      <td></td>\n",
       "      <td></td>\n",
       "      <td></td>\n",
       "      <td></td>\n",
       "      <td></td>\n",
       "      <td></td>\n",
       "    </tr>\n",
       "    <tr>\n",
       "      <th>620</th>\n",
       "      <td>rocha</td>\n",
       "      <td></td>\n",
       "      <td></td>\n",
       "      <td></td>\n",
       "      <td></td>\n",
       "      <td></td>\n",
       "      <td></td>\n",
       "      <td></td>\n",
       "      <td></td>\n",
       "    </tr>\n",
       "  </tbody>\n",
       "</table>\n",
       "<p>621 rows × 9 columns</p>\n",
       "</div>"
      ],
      "text/plain": [
       "          City Cloudiness Country Date Humidity Lat Lng Max Temp Windspeed\n",
       "0      colares                                                            \n",
       "1       barrow                                                            \n",
       "2       avarua                                                            \n",
       "3       hasaki                                                            \n",
       "4      kunming                                                            \n",
       "..         ...        ...     ...  ...      ...  ..  ..      ...       ...\n",
       "616   monrovia                                                            \n",
       "617     halalo                                                            \n",
       "618      seoul                                                            \n",
       "619  dubrajpur                                                            \n",
       "620      rocha                                                            \n",
       "\n",
       "[621 rows x 9 columns]"
      ]
     },
     "execution_count": 3,
     "metadata": {},
     "output_type": "execute_result"
    }
   ],
   "source": [
    "city_weather = pd.DataFrame({'City': cities, 'Cloudiness': \"\", 'Country': \"\", 'Date': \"\",\n",
    "                            'Humidity': \"\", 'Lat': \"\", 'Lng': \"\", 'Max Temp': \"\", 'Windspeed': \"\"})\n",
    "city_weather"
   ]
  },
  {
   "cell_type": "markdown",
   "metadata": {},
   "source": [
    "### Perform API Calls\n",
    "* Perform a weather check on each city using a series of successive API calls.\n",
    "* Include a print log of each city as it'sbeing processed (with the city number and city name).\n"
   ]
  },
  {
   "cell_type": "code",
   "execution_count": null,
   "metadata": {},
   "outputs": [],
   "source": [
    "\n",
    "#query_url = url + row['City'] + ',' + row['Country'] + '&APPID=' + weather_api_key\n",
    "\n",
    "record_num = 1\n",
    "record_set = 1\n",
    "\n",
    "url = \"http://api.openweathermap.org/data/2.5/weather?units=imperial&q=\"\n",
    "\n",
    "Beginning Data Retrieval\n",
    "-----------------------------''')\n",
    "for index, row in city_weather.iterrows(): \n",
    "    Create the query url for the API call\n",
    "    query_url = url + row['City'] + ',' + row['Country'] + '&APPID=' + weather_api_key\n",
    "    \n",
    "    API call\n",
    "    response = requests.get(query_url).json()\n",
    "    \n",
    "    Exception script in case the city is not found by the API call\n",
    "    try: \n",
    "        #Meassage to alert the user that the data is being retrieved\n",
    "        print(f'Processing Weather Data for Record {record_num} of Set {record_set} | {response[\"name\"]}')\n",
    "        \n",
    "        #Input data into the dataframe\n",
    "        city_weather.loc[index, 'Cloudiness'] = response['clouds']['all']\n",
    "        city_weather.loc[index, 'Country'] = response['timezone']\n",
    "        city_weather.loc[index, 'Date'] = response['dt']\n",
    "        city_weather.loc[index, 'Humidity'] = response['main']['humidity']\n",
    "        city_weather.loc[index, 'Lat'] = response['coord']['lat']\n",
    "        city_weather.loc[index, 'Lng'] = response['coord']['lon']\n",
    "        city_weather.loc[index, 'Max Temp'] = response['main']['temp_max']\n",
    "        city_weather.loc[index, 'Windspeed'] = response['wind']['speed']\n",
    "        \n",
    "        #Increase the record count\n",
    "        record_num += 1\n",
    "        \n",
    "    except (KeyError, IndexError):\n",
    "        print(\"City not found....Skipping............\")\n",
    "    \n",
    "    If statement to handle the API call limits\n",
    "    if record_num == 51:\n",
    "        record_set += 1\n",
    "        record_num = 1\n",
    "        time.sleep(5)\n",
    "        \n",
    "print('''\n",
    "-----------------------------\n",
    "Data Retrival Complete\n",
    "-----------------------------''')\n"
   ]
  },
  {
   "cell_type": "markdown",
   "metadata": {},
   "source": [
    "### Convert Raw Data to DataFrame\n",
    "* Export the city data into a .csv.\n",
    "* Display the DataFrame"
   ]
  },
  {
   "cell_type": "code",
   "execution_count": 115,
   "metadata": {},
   "outputs": [
    {
     "name": "stdout",
     "output_type": "stream",
     "text": [
      "          City  Cloudiness  Country          Date  Humidity      Lat  \\\n",
      "0      colares        20.0   3600.0  1.620053e+09      55.0  38.7992   \n",
      "1       barrow        90.0 -28800.0  1.620053e+09      86.0  71.2906   \n",
      "2       avarua        90.0 -36000.0  1.620053e+09      73.0 -21.2078   \n",
      "3       hasaki        20.0  32400.0  1.620053e+09      38.0  35.7333   \n",
      "4      kunming         0.0  28800.0  1.620053e+09      52.0  25.0389   \n",
      "..         ...         ...      ...           ...       ...      ...   \n",
      "616   monrovia        75.0      0.0  1.620054e+09      66.0   6.3005   \n",
      "617     halalo         NaN      NaN           NaN       NaN      NaN   \n",
      "618      seoul         0.0  32400.0  1.620054e+09      58.0  37.5683   \n",
      "619  dubrajpur        90.0  19800.0  1.620054e+09      94.0  23.8000   \n",
      "620      rocha        64.0 -10800.0  1.620054e+09      52.0 -34.4833   \n",
      "\n",
      "          Lng  Max Temp  Windspeed  \n",
      "0     -9.4469     73.00      10.36  \n",
      "1   -156.7887     15.80       3.27  \n",
      "2   -159.7750     75.20       8.05  \n",
      "3    140.8333     59.00      10.36  \n",
      "4    102.7183     66.20      13.42  \n",
      "..        ...       ...        ...  \n",
      "616  -10.7969     91.40      10.36  \n",
      "617       NaN       NaN        NaN  \n",
      "618  126.9778     53.60       3.44  \n",
      "619   87.3833     77.00       5.75  \n",
      "620  -54.3333     77.09      12.71  \n",
      "\n",
      "[621 rows x 9 columns]\n"
     ]
    }
   ],
   "source": [
    "city_weather.to_csv('cities2.csv', index=False)\n",
    "#cities.to_csv('cities.csv')\n",
    "cities_df = pd.read_csv ('cities2.csv')\n",
    "print(cities_df)"
   ]
  },
  {
   "cell_type": "code",
   "execution_count": 116,
   "metadata": {},
   "outputs": [
    {
     "data": {
      "text/html": [
       "<div>\n",
       "<style scoped>\n",
       "    .dataframe tbody tr th:only-of-type {\n",
       "        vertical-align: middle;\n",
       "    }\n",
       "\n",
       "    .dataframe tbody tr th {\n",
       "        vertical-align: top;\n",
       "    }\n",
       "\n",
       "    .dataframe thead th {\n",
       "        text-align: right;\n",
       "    }\n",
       "</style>\n",
       "<table border=\"1\" class=\"dataframe\">\n",
       "  <thead>\n",
       "    <tr style=\"text-align: right;\">\n",
       "      <th></th>\n",
       "      <th>City</th>\n",
       "      <th>Cloudiness</th>\n",
       "      <th>Country</th>\n",
       "      <th>Date</th>\n",
       "      <th>Humidity</th>\n",
       "      <th>Lat</th>\n",
       "      <th>Lng</th>\n",
       "      <th>Max Temp</th>\n",
       "      <th>Windspeed</th>\n",
       "    </tr>\n",
       "  </thead>\n",
       "  <tbody>\n",
       "    <tr>\n",
       "      <th>0</th>\n",
       "      <td>colares</td>\n",
       "      <td>20.0</td>\n",
       "      <td>3600.0</td>\n",
       "      <td>1.620053e+09</td>\n",
       "      <td>55.0</td>\n",
       "      <td>38.7992</td>\n",
       "      <td>-9.4469</td>\n",
       "      <td>73.00</td>\n",
       "      <td>10.36</td>\n",
       "    </tr>\n",
       "    <tr>\n",
       "      <th>1</th>\n",
       "      <td>barrow</td>\n",
       "      <td>90.0</td>\n",
       "      <td>-28800.0</td>\n",
       "      <td>1.620053e+09</td>\n",
       "      <td>86.0</td>\n",
       "      <td>71.2906</td>\n",
       "      <td>-156.7887</td>\n",
       "      <td>15.80</td>\n",
       "      <td>3.27</td>\n",
       "    </tr>\n",
       "    <tr>\n",
       "      <th>2</th>\n",
       "      <td>avarua</td>\n",
       "      <td>90.0</td>\n",
       "      <td>-36000.0</td>\n",
       "      <td>1.620053e+09</td>\n",
       "      <td>73.0</td>\n",
       "      <td>-21.2078</td>\n",
       "      <td>-159.7750</td>\n",
       "      <td>75.20</td>\n",
       "      <td>8.05</td>\n",
       "    </tr>\n",
       "    <tr>\n",
       "      <th>3</th>\n",
       "      <td>hasaki</td>\n",
       "      <td>20.0</td>\n",
       "      <td>32400.0</td>\n",
       "      <td>1.620053e+09</td>\n",
       "      <td>38.0</td>\n",
       "      <td>35.7333</td>\n",
       "      <td>140.8333</td>\n",
       "      <td>59.00</td>\n",
       "      <td>10.36</td>\n",
       "    </tr>\n",
       "    <tr>\n",
       "      <th>4</th>\n",
       "      <td>kunming</td>\n",
       "      <td>0.0</td>\n",
       "      <td>28800.0</td>\n",
       "      <td>1.620053e+09</td>\n",
       "      <td>52.0</td>\n",
       "      <td>25.0389</td>\n",
       "      <td>102.7183</td>\n",
       "      <td>66.20</td>\n",
       "      <td>13.42</td>\n",
       "    </tr>\n",
       "    <tr>\n",
       "      <th>...</th>\n",
       "      <td>...</td>\n",
       "      <td>...</td>\n",
       "      <td>...</td>\n",
       "      <td>...</td>\n",
       "      <td>...</td>\n",
       "      <td>...</td>\n",
       "      <td>...</td>\n",
       "      <td>...</td>\n",
       "      <td>...</td>\n",
       "    </tr>\n",
       "    <tr>\n",
       "      <th>615</th>\n",
       "      <td>mackenzie</td>\n",
       "      <td>90.0</td>\n",
       "      <td>-25200.0</td>\n",
       "      <td>1.620054e+09</td>\n",
       "      <td>87.0</td>\n",
       "      <td>55.2999</td>\n",
       "      <td>-123.1698</td>\n",
       "      <td>35.60</td>\n",
       "      <td>3.44</td>\n",
       "    </tr>\n",
       "    <tr>\n",
       "      <th>616</th>\n",
       "      <td>monrovia</td>\n",
       "      <td>75.0</td>\n",
       "      <td>0.0</td>\n",
       "      <td>1.620054e+09</td>\n",
       "      <td>66.0</td>\n",
       "      <td>6.3005</td>\n",
       "      <td>-10.7969</td>\n",
       "      <td>91.40</td>\n",
       "      <td>10.36</td>\n",
       "    </tr>\n",
       "    <tr>\n",
       "      <th>618</th>\n",
       "      <td>seoul</td>\n",
       "      <td>0.0</td>\n",
       "      <td>32400.0</td>\n",
       "      <td>1.620054e+09</td>\n",
       "      <td>58.0</td>\n",
       "      <td>37.5683</td>\n",
       "      <td>126.9778</td>\n",
       "      <td>53.60</td>\n",
       "      <td>3.44</td>\n",
       "    </tr>\n",
       "    <tr>\n",
       "      <th>619</th>\n",
       "      <td>dubrajpur</td>\n",
       "      <td>90.0</td>\n",
       "      <td>19800.0</td>\n",
       "      <td>1.620054e+09</td>\n",
       "      <td>94.0</td>\n",
       "      <td>23.8000</td>\n",
       "      <td>87.3833</td>\n",
       "      <td>77.00</td>\n",
       "      <td>5.75</td>\n",
       "    </tr>\n",
       "    <tr>\n",
       "      <th>620</th>\n",
       "      <td>rocha</td>\n",
       "      <td>64.0</td>\n",
       "      <td>-10800.0</td>\n",
       "      <td>1.620054e+09</td>\n",
       "      <td>52.0</td>\n",
       "      <td>-34.4833</td>\n",
       "      <td>-54.3333</td>\n",
       "      <td>77.09</td>\n",
       "      <td>12.71</td>\n",
       "    </tr>\n",
       "  </tbody>\n",
       "</table>\n",
       "<p>551 rows × 9 columns</p>\n",
       "</div>"
      ],
      "text/plain": [
       "          City  Cloudiness  Country          Date  Humidity      Lat  \\\n",
       "0      colares        20.0   3600.0  1.620053e+09      55.0  38.7992   \n",
       "1       barrow        90.0 -28800.0  1.620053e+09      86.0  71.2906   \n",
       "2       avarua        90.0 -36000.0  1.620053e+09      73.0 -21.2078   \n",
       "3       hasaki        20.0  32400.0  1.620053e+09      38.0  35.7333   \n",
       "4      kunming         0.0  28800.0  1.620053e+09      52.0  25.0389   \n",
       "..         ...         ...      ...           ...       ...      ...   \n",
       "615  mackenzie        90.0 -25200.0  1.620054e+09      87.0  55.2999   \n",
       "616   monrovia        75.0      0.0  1.620054e+09      66.0   6.3005   \n",
       "618      seoul         0.0  32400.0  1.620054e+09      58.0  37.5683   \n",
       "619  dubrajpur        90.0  19800.0  1.620054e+09      94.0  23.8000   \n",
       "620      rocha        64.0 -10800.0  1.620054e+09      52.0 -34.4833   \n",
       "\n",
       "          Lng  Max Temp  Windspeed  \n",
       "0     -9.4469     73.00      10.36  \n",
       "1   -156.7887     15.80       3.27  \n",
       "2   -159.7750     75.20       8.05  \n",
       "3    140.8333     59.00      10.36  \n",
       "4    102.7183     66.20      13.42  \n",
       "..        ...       ...        ...  \n",
       "615 -123.1698     35.60       3.44  \n",
       "616  -10.7969     91.40      10.36  \n",
       "618  126.9778     53.60       3.44  \n",
       "619   87.3833     77.00       5.75  \n",
       "620  -54.3333     77.09      12.71  \n",
       "\n",
       "[551 rows x 9 columns]"
      ]
     },
     "execution_count": 116,
     "metadata": {},
     "output_type": "execute_result"
    }
   ],
   "source": [
    "#Clean dataframe to remove cities that were not found\n",
    "cities_df['Cloudiness'] = cities_df['Cloudiness'].replace('', np.nan)\n",
    "cities_df = cities_df.dropna()\n",
    "\n",
    "#Save dataframe\n",
    "cities_df.to_csv(\"cities_df.csv\", index=False, header=True)\n",
    "\n",
    "#Preview the dataframe\n",
    "cities_df"
   ]
  },
  {
   "cell_type": "code",
   "execution_count": 120,
   "metadata": {},
   "outputs": [
    {
     "data": {
      "text/html": [
       "<div>\n",
       "<style scoped>\n",
       "    .dataframe tbody tr th:only-of-type {\n",
       "        vertical-align: middle;\n",
       "    }\n",
       "\n",
       "    .dataframe tbody tr th {\n",
       "        vertical-align: top;\n",
       "    }\n",
       "\n",
       "    .dataframe thead th {\n",
       "        text-align: right;\n",
       "    }\n",
       "</style>\n",
       "<table border=\"1\" class=\"dataframe\">\n",
       "  <thead>\n",
       "    <tr style=\"text-align: right;\">\n",
       "      <th></th>\n",
       "      <th>City</th>\n",
       "      <th>Lat</th>\n",
       "      <th>Lng</th>\n",
       "      <th>Max Temp</th>\n",
       "      <th>Humidity</th>\n",
       "      <th>Cloudiness</th>\n",
       "      <th>Windspeed</th>\n",
       "      <th>Country</th>\n",
       "      <th>Date</th>\n",
       "    </tr>\n",
       "  </thead>\n",
       "  <tbody>\n",
       "    <tr>\n",
       "      <th>0</th>\n",
       "      <td>colares</td>\n",
       "      <td>38.7992</td>\n",
       "      <td>-9.4469</td>\n",
       "      <td>73.0</td>\n",
       "      <td>55.0</td>\n",
       "      <td>20.0</td>\n",
       "      <td>10.36</td>\n",
       "      <td>3600.0</td>\n",
       "      <td>1.620053e+09</td>\n",
       "    </tr>\n",
       "    <tr>\n",
       "      <th>1</th>\n",
       "      <td>barrow</td>\n",
       "      <td>71.2906</td>\n",
       "      <td>-156.7887</td>\n",
       "      <td>15.8</td>\n",
       "      <td>86.0</td>\n",
       "      <td>90.0</td>\n",
       "      <td>3.27</td>\n",
       "      <td>-28800.0</td>\n",
       "      <td>1.620053e+09</td>\n",
       "    </tr>\n",
       "    <tr>\n",
       "      <th>2</th>\n",
       "      <td>avarua</td>\n",
       "      <td>-21.2078</td>\n",
       "      <td>-159.7750</td>\n",
       "      <td>75.2</td>\n",
       "      <td>73.0</td>\n",
       "      <td>90.0</td>\n",
       "      <td>8.05</td>\n",
       "      <td>-36000.0</td>\n",
       "      <td>1.620053e+09</td>\n",
       "    </tr>\n",
       "    <tr>\n",
       "      <th>3</th>\n",
       "      <td>hasaki</td>\n",
       "      <td>35.7333</td>\n",
       "      <td>140.8333</td>\n",
       "      <td>59.0</td>\n",
       "      <td>38.0</td>\n",
       "      <td>20.0</td>\n",
       "      <td>10.36</td>\n",
       "      <td>32400.0</td>\n",
       "      <td>1.620053e+09</td>\n",
       "    </tr>\n",
       "    <tr>\n",
       "      <th>4</th>\n",
       "      <td>kunming</td>\n",
       "      <td>25.0389</td>\n",
       "      <td>102.7183</td>\n",
       "      <td>66.2</td>\n",
       "      <td>52.0</td>\n",
       "      <td>0.0</td>\n",
       "      <td>13.42</td>\n",
       "      <td>28800.0</td>\n",
       "      <td>1.620053e+09</td>\n",
       "    </tr>\n",
       "    <tr>\n",
       "      <th>...</th>\n",
       "      <td>...</td>\n",
       "      <td>...</td>\n",
       "      <td>...</td>\n",
       "      <td>...</td>\n",
       "      <td>...</td>\n",
       "      <td>...</td>\n",
       "      <td>...</td>\n",
       "      <td>...</td>\n",
       "      <td>...</td>\n",
       "    </tr>\n",
       "    <tr>\n",
       "      <th>610</th>\n",
       "      <td>rietavas</td>\n",
       "      <td>55.7194</td>\n",
       "      <td>21.9311</td>\n",
       "      <td>44.6</td>\n",
       "      <td>65.0</td>\n",
       "      <td>0.0</td>\n",
       "      <td>8.05</td>\n",
       "      <td>10800.0</td>\n",
       "      <td>1.620054e+09</td>\n",
       "    </tr>\n",
       "    <tr>\n",
       "      <th>612</th>\n",
       "      <td>toamasina</td>\n",
       "      <td>-18.1667</td>\n",
       "      <td>49.3833</td>\n",
       "      <td>80.6</td>\n",
       "      <td>83.0</td>\n",
       "      <td>75.0</td>\n",
       "      <td>5.75</td>\n",
       "      <td>10800.0</td>\n",
       "      <td>1.620054e+09</td>\n",
       "    </tr>\n",
       "    <tr>\n",
       "      <th>613</th>\n",
       "      <td>ewa beach</td>\n",
       "      <td>21.3156</td>\n",
       "      <td>-158.0072</td>\n",
       "      <td>73.4</td>\n",
       "      <td>68.0</td>\n",
       "      <td>20.0</td>\n",
       "      <td>8.05</td>\n",
       "      <td>-36000.0</td>\n",
       "      <td>1.620053e+09</td>\n",
       "    </tr>\n",
       "    <tr>\n",
       "      <th>615</th>\n",
       "      <td>mackenzie</td>\n",
       "      <td>55.2999</td>\n",
       "      <td>-123.1698</td>\n",
       "      <td>35.6</td>\n",
       "      <td>87.0</td>\n",
       "      <td>90.0</td>\n",
       "      <td>3.44</td>\n",
       "      <td>-25200.0</td>\n",
       "      <td>1.620054e+09</td>\n",
       "    </tr>\n",
       "    <tr>\n",
       "      <th>616</th>\n",
       "      <td>monrovia</td>\n",
       "      <td>6.3005</td>\n",
       "      <td>-10.7969</td>\n",
       "      <td>91.4</td>\n",
       "      <td>66.0</td>\n",
       "      <td>75.0</td>\n",
       "      <td>10.36</td>\n",
       "      <td>0.0</td>\n",
       "      <td>1.620054e+09</td>\n",
       "    </tr>\n",
       "  </tbody>\n",
       "</table>\n",
       "<p>548 rows × 9 columns</p>\n",
       "</div>"
      ],
      "text/plain": [
       "          City      Lat       Lng  Max Temp  Humidity  Cloudiness  Windspeed  \\\n",
       "0      colares  38.7992   -9.4469      73.0      55.0        20.0      10.36   \n",
       "1       barrow  71.2906 -156.7887      15.8      86.0        90.0       3.27   \n",
       "2       avarua -21.2078 -159.7750      75.2      73.0        90.0       8.05   \n",
       "3       hasaki  35.7333  140.8333      59.0      38.0        20.0      10.36   \n",
       "4      kunming  25.0389  102.7183      66.2      52.0         0.0      13.42   \n",
       "..         ...      ...       ...       ...       ...         ...        ...   \n",
       "610   rietavas  55.7194   21.9311      44.6      65.0         0.0       8.05   \n",
       "612  toamasina -18.1667   49.3833      80.6      83.0        75.0       5.75   \n",
       "613  ewa beach  21.3156 -158.0072      73.4      68.0        20.0       8.05   \n",
       "615  mackenzie  55.2999 -123.1698      35.6      87.0        90.0       3.44   \n",
       "616   monrovia   6.3005  -10.7969      91.4      66.0        75.0      10.36   \n",
       "\n",
       "     Country          Date  \n",
       "0     3600.0  1.620053e+09  \n",
       "1   -28800.0  1.620053e+09  \n",
       "2   -36000.0  1.620053e+09  \n",
       "3    32400.0  1.620053e+09  \n",
       "4    28800.0  1.620053e+09  \n",
       "..       ...           ...  \n",
       "610  10800.0  1.620054e+09  \n",
       "612  10800.0  1.620054e+09  \n",
       "613 -36000.0  1.620053e+09  \n",
       "615 -25200.0  1.620054e+09  \n",
       "616      0.0  1.620054e+09  \n",
       "\n",
       "[548 rows x 9 columns]"
      ]
     },
     "execution_count": 120,
     "metadata": {},
     "output_type": "execute_result"
    }
   ],
   "source": [
    "cities_df = cities_df[[\"City\", \"Lat\", \"Lng\", \"Max Temp\", \"Humidity\", \"Cloudiness\", \"Windspeed\", \"Country\", \"Date\"]]\n",
    "cities_df.head(548)\n",
    "#column_names = [\"Lat\", \"Lng\", \"Country\", \"City\", \"Max Temp\", \"Humidity\", \"Cloudiness\", \"Windspeed\", \"Date\"]\n",
    "#pd.DataFrame.reindex(columns=column_names) \n",
    "#column_names = [\"Lat\", \"Lng\", \"Country\", \"City\", \"Max Temp\", \"Humidity\", \"Cloudiness\", \"Windspeed\", \"Date\"]\n",
    "#cities_df = cities_df.reindex(columns=column_names)"
   ]
  },
  {
   "cell_type": "code",
   "execution_count": 11,
   "metadata": {
    "scrolled": true
   },
   "outputs": [
    {
     "name": "stdout",
     "output_type": "stream",
     "text": [
      "         Humidity\n",
      "              max\n",
      "City             \n",
      "abalak       46.0\n",
      "abha         68.0\n",
      "acapulco     69.0\n",
      "acarau       76.0\n",
      "acworth      94.0\n",
      "...           ...\n",
      "zanjan       72.0\n",
      "zermatt      68.0\n",
      "zhadovka     61.0\n",
      "zheshart     42.0\n",
      "zhigansk     99.0\n",
      "\n",
      "[551 rows x 1 columns]\n"
     ]
    },
    {
     "name": "stderr",
     "output_type": "stream",
     "text": [
      "C:\\Users\\ICPC\\anaconda3\\envs\\Pythondata\\lib\\site-packages\\pandas\\core\\frame.py:3997: SettingWithCopyWarning: \n",
      "A value is trying to be set on a copy of a slice from a DataFrame\n",
      "\n",
      "See the caveats in the documentation: https://pandas.pydata.org/pandas-docs/stable/user_guide/indexing.html#returning-a-view-versus-a-copy\n",
      "  errors=errors,\n"
     ]
    }
   ],
   "source": [
    "cities_humid_df = cities_df[[\"Humidity\"]]\n",
    "cities_humid_df.count()\n",
    "#cities_Humid_df.drop(cities_Humid_df[cities_Humid_df['Value'] > 100].index, inplace = True)\n",
    "cities_humid_df.drop(cities_humid_df.loc[cities_humid_df['Humidity'] > 100].index, inplace=True)\n",
    "cities_humid_df = cities_df.groupby(\"City\").agg({\"Humidity\": [\"max\"]})  \n",
    "print(cities_humid_df)"
   ]
  },
  {
   "cell_type": "code",
   "execution_count": 121,
   "metadata": {},
   "outputs": [
    {
     "data": {
      "text/html": [
       "<div>\n",
       "<style scoped>\n",
       "    .dataframe tbody tr th:only-of-type {\n",
       "        vertical-align: middle;\n",
       "    }\n",
       "\n",
       "    .dataframe tbody tr th {\n",
       "        vertical-align: top;\n",
       "    }\n",
       "\n",
       "    .dataframe thead th {\n",
       "        text-align: right;\n",
       "    }\n",
       "</style>\n",
       "<table border=\"1\" class=\"dataframe\">\n",
       "  <thead>\n",
       "    <tr style=\"text-align: right;\">\n",
       "      <th></th>\n",
       "      <th>City</th>\n",
       "      <th>Lat</th>\n",
       "      <th>Lng</th>\n",
       "      <th>Max Temp</th>\n",
       "      <th>Humidity</th>\n",
       "      <th>Cloudiness</th>\n",
       "      <th>Windspeed</th>\n",
       "      <th>Country</th>\n",
       "      <th>Date</th>\n",
       "    </tr>\n",
       "  </thead>\n",
       "  <tbody>\n",
       "    <tr>\n",
       "      <th>0</th>\n",
       "      <td>colares</td>\n",
       "      <td>38.7992</td>\n",
       "      <td>-9.4469</td>\n",
       "      <td>73.0</td>\n",
       "      <td>55.0</td>\n",
       "      <td>20.0</td>\n",
       "      <td>10.36</td>\n",
       "      <td>3600.0</td>\n",
       "      <td>1.620053e+09</td>\n",
       "    </tr>\n",
       "    <tr>\n",
       "      <th>1</th>\n",
       "      <td>barrow</td>\n",
       "      <td>71.2906</td>\n",
       "      <td>-156.7887</td>\n",
       "      <td>15.8</td>\n",
       "      <td>86.0</td>\n",
       "      <td>90.0</td>\n",
       "      <td>3.27</td>\n",
       "      <td>-28800.0</td>\n",
       "      <td>1.620053e+09</td>\n",
       "    </tr>\n",
       "    <tr>\n",
       "      <th>2</th>\n",
       "      <td>avarua</td>\n",
       "      <td>-21.2078</td>\n",
       "      <td>-159.7750</td>\n",
       "      <td>75.2</td>\n",
       "      <td>73.0</td>\n",
       "      <td>90.0</td>\n",
       "      <td>8.05</td>\n",
       "      <td>-36000.0</td>\n",
       "      <td>1.620053e+09</td>\n",
       "    </tr>\n",
       "    <tr>\n",
       "      <th>3</th>\n",
       "      <td>hasaki</td>\n",
       "      <td>35.7333</td>\n",
       "      <td>140.8333</td>\n",
       "      <td>59.0</td>\n",
       "      <td>38.0</td>\n",
       "      <td>20.0</td>\n",
       "      <td>10.36</td>\n",
       "      <td>32400.0</td>\n",
       "      <td>1.620053e+09</td>\n",
       "    </tr>\n",
       "    <tr>\n",
       "      <th>4</th>\n",
       "      <td>kunming</td>\n",
       "      <td>25.0389</td>\n",
       "      <td>102.7183</td>\n",
       "      <td>66.2</td>\n",
       "      <td>52.0</td>\n",
       "      <td>0.0</td>\n",
       "      <td>13.42</td>\n",
       "      <td>28800.0</td>\n",
       "      <td>1.620053e+09</td>\n",
       "    </tr>\n",
       "  </tbody>\n",
       "</table>\n",
       "</div>"
      ],
      "text/plain": [
       "      City      Lat       Lng  Max Temp  Humidity  Cloudiness  Windspeed  \\\n",
       "0  colares  38.7992   -9.4469      73.0      55.0        20.0      10.36   \n",
       "1   barrow  71.2906 -156.7887      15.8      86.0        90.0       3.27   \n",
       "2   avarua -21.2078 -159.7750      75.2      73.0        90.0       8.05   \n",
       "3   hasaki  35.7333  140.8333      59.0      38.0        20.0      10.36   \n",
       "4  kunming  25.0389  102.7183      66.2      52.0         0.0      13.42   \n",
       "\n",
       "   Country          Date  \n",
       "0   3600.0  1.620053e+09  \n",
       "1 -28800.0  1.620053e+09  \n",
       "2 -36000.0  1.620053e+09  \n",
       "3  32400.0  1.620053e+09  \n",
       "4  28800.0  1.620053e+09  "
      ]
     },
     "execution_count": 121,
     "metadata": {},
     "output_type": "execute_result"
    }
   ],
   "source": [
    "humid_df = cities_df[cities_df[\"Humidity\"]>100].index\n",
    "clean_df = cities_df.drop(humid_df, inplace = False)\n",
    "clean_df.head()"
   ]
  },
  {
   "cell_type": "code",
   "execution_count": 122,
   "metadata": {},
   "outputs": [
    {
     "data": {
      "text/plain": [
       "Int64Index([], dtype='int64')"
      ]
     },
     "execution_count": 122,
     "metadata": {},
     "output_type": "execute_result"
    }
   ],
   "source": [
    "humid_df"
   ]
  },
  {
   "cell_type": "code",
   "execution_count": 25,
   "metadata": {},
   "outputs": [
    {
     "name": "stdout",
     "output_type": "stream",
     "text": [
      "          City      Lat  Country       Lng  Max Temp  Humidity  Cloudiness  \\\n",
      "1       barrow  71.2906 -28800.0 -156.7887     15.80      86.0        90.0   \n",
      "2       avarua -21.2078 -36000.0 -159.7750     75.20      73.0        90.0   \n",
      "3       hasaki  35.7333  32400.0  140.8333     59.00      38.0        20.0   \n",
      "4      kunming  25.0389  28800.0  102.7183     66.20      52.0         0.0   \n",
      "5         lebu -37.6167 -14400.0  -73.6500     54.41      77.0        97.0   \n",
      "..         ...      ...      ...       ...       ...       ...         ...   \n",
      "615  mackenzie  55.2999 -25200.0 -123.1698     35.60      87.0        90.0   \n",
      "616   monrovia   6.3005      0.0  -10.7969     91.40      66.0        75.0   \n",
      "618      seoul  37.5683  32400.0  126.9778     53.60      58.0         0.0   \n",
      "619  dubrajpur  23.8000  19800.0   87.3833     77.00      94.0        90.0   \n",
      "620      rocha -34.4833 -10800.0  -54.3333     77.09      52.0        64.0   \n",
      "\n",
      "     Windspeed          Date  \n",
      "1         3.27  1.620053e+09  \n",
      "2         8.05  1.620053e+09  \n",
      "3        10.36  1.620053e+09  \n",
      "4        13.42  1.620053e+09  \n",
      "5         8.43  1.620053e+09  \n",
      "..         ...           ...  \n",
      "615       3.44  1.620054e+09  \n",
      "616      10.36  1.620054e+09  \n",
      "618       3.44  1.620054e+09  \n",
      "619       5.75  1.620054e+09  \n",
      "620      12.71  1.620054e+09  \n",
      "\n",
      "[549 rows x 9 columns]\n"
     ]
    }
   ],
   "source": [
    "# Make a new DataFrame equal to the city data to drop all humidity outliers by index.\n",
    "# Passing \"inplace=False\" will make a copy of the city_data DataFrame, which we call \"clean_city_data\".\n",
    "clean_city_data = cities_df.drop([129, 0])\n",
    "print(clean_city_data)"
   ]
  },
  {
   "cell_type": "markdown",
   "metadata": {},
   "source": [
    "## Inspect the data and remove the cities where the humidity > 100%.\n",
    "1111----\n",
    "Skip this step if there are no cities that have humidity > 100%. "
   ]
  },
  {
   "cell_type": "code",
   "execution_count": 113,
   "metadata": {},
   "outputs": [
    {
     "data": {
      "text/html": [
       "<div>\n",
       "<style scoped>\n",
       "    .dataframe tbody tr th:only-of-type {\n",
       "        vertical-align: middle;\n",
       "    }\n",
       "\n",
       "    .dataframe tbody tr th {\n",
       "        vertical-align: top;\n",
       "    }\n",
       "\n",
       "    .dataframe thead th {\n",
       "        text-align: right;\n",
       "    }\n",
       "</style>\n",
       "<table border=\"1\" class=\"dataframe\">\n",
       "  <thead>\n",
       "    <tr style=\"text-align: right;\">\n",
       "      <th></th>\n",
       "      <th>City</th>\n",
       "      <th>Lat</th>\n",
       "      <th>Country</th>\n",
       "      <th>Lng</th>\n",
       "      <th>Max Temp</th>\n",
       "      <th>Humidity</th>\n",
       "      <th>Cloudiness</th>\n",
       "      <th>Windspeed</th>\n",
       "      <th>Date</th>\n",
       "    </tr>\n",
       "  </thead>\n",
       "  <tbody>\n",
       "    <tr>\n",
       "      <th>1</th>\n",
       "      <td>barrow</td>\n",
       "      <td>71.2906</td>\n",
       "      <td>-28800.0</td>\n",
       "      <td>-156.7887</td>\n",
       "      <td>15.80</td>\n",
       "      <td>86.0</td>\n",
       "      <td>90.0</td>\n",
       "      <td>3.27</td>\n",
       "      <td>1.620053e+09</td>\n",
       "    </tr>\n",
       "    <tr>\n",
       "      <th>2</th>\n",
       "      <td>avarua</td>\n",
       "      <td>-21.2078</td>\n",
       "      <td>-36000.0</td>\n",
       "      <td>-159.7750</td>\n",
       "      <td>75.20</td>\n",
       "      <td>73.0</td>\n",
       "      <td>90.0</td>\n",
       "      <td>8.05</td>\n",
       "      <td>1.620053e+09</td>\n",
       "    </tr>\n",
       "    <tr>\n",
       "      <th>3</th>\n",
       "      <td>hasaki</td>\n",
       "      <td>35.7333</td>\n",
       "      <td>32400.0</td>\n",
       "      <td>140.8333</td>\n",
       "      <td>59.00</td>\n",
       "      <td>38.0</td>\n",
       "      <td>20.0</td>\n",
       "      <td>10.36</td>\n",
       "      <td>1.620053e+09</td>\n",
       "    </tr>\n",
       "    <tr>\n",
       "      <th>4</th>\n",
       "      <td>kunming</td>\n",
       "      <td>25.0389</td>\n",
       "      <td>28800.0</td>\n",
       "      <td>102.7183</td>\n",
       "      <td>66.20</td>\n",
       "      <td>52.0</td>\n",
       "      <td>0.0</td>\n",
       "      <td>13.42</td>\n",
       "      <td>1.620053e+09</td>\n",
       "    </tr>\n",
       "    <tr>\n",
       "      <th>5</th>\n",
       "      <td>lebu</td>\n",
       "      <td>-37.6167</td>\n",
       "      <td>-14400.0</td>\n",
       "      <td>-73.6500</td>\n",
       "      <td>54.41</td>\n",
       "      <td>77.0</td>\n",
       "      <td>97.0</td>\n",
       "      <td>8.43</td>\n",
       "      <td>1.620053e+09</td>\n",
       "    </tr>\n",
       "    <tr>\n",
       "      <th>...</th>\n",
       "      <td>...</td>\n",
       "      <td>...</td>\n",
       "      <td>...</td>\n",
       "      <td>...</td>\n",
       "      <td>...</td>\n",
       "      <td>...</td>\n",
       "      <td>...</td>\n",
       "      <td>...</td>\n",
       "      <td>...</td>\n",
       "    </tr>\n",
       "    <tr>\n",
       "      <th>615</th>\n",
       "      <td>mackenzie</td>\n",
       "      <td>55.2999</td>\n",
       "      <td>-25200.0</td>\n",
       "      <td>-123.1698</td>\n",
       "      <td>35.60</td>\n",
       "      <td>87.0</td>\n",
       "      <td>90.0</td>\n",
       "      <td>3.44</td>\n",
       "      <td>1.620054e+09</td>\n",
       "    </tr>\n",
       "    <tr>\n",
       "      <th>616</th>\n",
       "      <td>monrovia</td>\n",
       "      <td>6.3005</td>\n",
       "      <td>0.0</td>\n",
       "      <td>-10.7969</td>\n",
       "      <td>91.40</td>\n",
       "      <td>66.0</td>\n",
       "      <td>75.0</td>\n",
       "      <td>10.36</td>\n",
       "      <td>1.620054e+09</td>\n",
       "    </tr>\n",
       "    <tr>\n",
       "      <th>618</th>\n",
       "      <td>seoul</td>\n",
       "      <td>37.5683</td>\n",
       "      <td>32400.0</td>\n",
       "      <td>126.9778</td>\n",
       "      <td>53.60</td>\n",
       "      <td>58.0</td>\n",
       "      <td>0.0</td>\n",
       "      <td>3.44</td>\n",
       "      <td>1.620054e+09</td>\n",
       "    </tr>\n",
       "    <tr>\n",
       "      <th>619</th>\n",
       "      <td>dubrajpur</td>\n",
       "      <td>23.8000</td>\n",
       "      <td>19800.0</td>\n",
       "      <td>87.3833</td>\n",
       "      <td>77.00</td>\n",
       "      <td>94.0</td>\n",
       "      <td>90.0</td>\n",
       "      <td>5.75</td>\n",
       "      <td>1.620054e+09</td>\n",
       "    </tr>\n",
       "    <tr>\n",
       "      <th>620</th>\n",
       "      <td>rocha</td>\n",
       "      <td>-34.4833</td>\n",
       "      <td>-10800.0</td>\n",
       "      <td>-54.3333</td>\n",
       "      <td>77.09</td>\n",
       "      <td>52.0</td>\n",
       "      <td>64.0</td>\n",
       "      <td>12.71</td>\n",
       "      <td>1.620054e+09</td>\n",
       "    </tr>\n",
       "  </tbody>\n",
       "</table>\n",
       "<p>549 rows × 9 columns</p>\n",
       "</div>"
      ],
      "text/plain": [
       "          City      Lat  Country       Lng  Max Temp  Humidity  Cloudiness  \\\n",
       "1       barrow  71.2906 -28800.0 -156.7887     15.80      86.0        90.0   \n",
       "2       avarua -21.2078 -36000.0 -159.7750     75.20      73.0        90.0   \n",
       "3       hasaki  35.7333  32400.0  140.8333     59.00      38.0        20.0   \n",
       "4      kunming  25.0389  28800.0  102.7183     66.20      52.0         0.0   \n",
       "5         lebu -37.6167 -14400.0  -73.6500     54.41      77.0        97.0   \n",
       "..         ...      ...      ...       ...       ...       ...         ...   \n",
       "615  mackenzie  55.2999 -25200.0 -123.1698     35.60      87.0        90.0   \n",
       "616   monrovia   6.3005      0.0  -10.7969     91.40      66.0        75.0   \n",
       "618      seoul  37.5683  32400.0  126.9778     53.60      58.0         0.0   \n",
       "619  dubrajpur  23.8000  19800.0   87.3833     77.00      94.0        90.0   \n",
       "620      rocha -34.4833 -10800.0  -54.3333     77.09      52.0        64.0   \n",
       "\n",
       "     Windspeed          Date  \n",
       "1         3.27  1.620053e+09  \n",
       "2         8.05  1.620053e+09  \n",
       "3        10.36  1.620053e+09  \n",
       "4        13.42  1.620053e+09  \n",
       "5         8.43  1.620053e+09  \n",
       "..         ...           ...  \n",
       "615       3.44  1.620054e+09  \n",
       "616      10.36  1.620054e+09  \n",
       "618       3.44  1.620054e+09  \n",
       "619       5.75  1.620054e+09  \n",
       "620      12.71  1.620054e+09  \n",
       "\n",
       "[549 rows x 9 columns]"
      ]
     },
     "execution_count": 113,
     "metadata": {},
     "output_type": "execute_result"
    }
   ],
   "source": [
    "clean_city_data\n"
   ]
  },
  {
   "cell_type": "markdown",
   "metadata": {},
   "source": [
    "## Plotting the Data\n",
    "* Use proper labeling of the plots using plot titles (including date of analysis) and axes labels.\n",
    "* Save the plotted figures as .pngs."
   ]
  },
  {
   "cell_type": "markdown",
   "metadata": {},
   "source": [
    "## Latitude vs. Temperature Plot"
   ]
  },
  {
   "cell_type": "code",
   "execution_count": 154,
   "metadata": {
    "scrolled": true
   },
   "outputs": [
    {
     "data": {
      "image/png": "[encoded data removed]",
      "text/plain": [
       "<Figure size 432x288 with 1 Axes>"
      ]
     },
     "metadata": {
      "needs_background": "light"
     },
     "output_type": "display_data"
    }
   ],
   "source": [
    "clean_city_data.plot.scatter(x=\"Lat\", y=\"Max Temp\", alpha=1.0)\n",
    "#plt.scatter(x, y)\n",
    "plt.xlabel(\"Lat\")\n",
    "plt.ylabel(\"Max Temp\")\n",
    "plt.title('City Latitude vs. Max Temperature (05/3/21)')\n",
    "plt.grid()\n",
    "plt.savefig(\"Max Temp_vs_Lat.png\")\n",
    "plt.show()"
   ]
  },
  {
   "cell_type": "markdown",
   "metadata": {},
   "source": [
    "## Latitude vs. Humidity Plot"
   ]
  },
  {
   "cell_type": "code",
   "execution_count": 174,
   "metadata": {},
   "outputs": [
    {
     "data": {
      "image/png": "[encoded data removed]",
      "text/plain": [
       "<Figure size 432x288 with 1 Axes>"
      ]
     },
     "metadata": {
      "needs_background": "light"
     },
     "output_type": "display_data"
    }
   ],
   "source": [
    "clean_city_data.plot.scatter(x=\"Lat\", y=\"Humidity\", alpha=1.0)\n",
    "#plt.scatter(x, y)\n",
    "plt.xlabel(\"Lat\")\n",
    "plt.ylabel(\"Humidity\")\n",
    "plt.title('City Latitude vs. Humidity (05/3/21)')\n",
    "plt.grid()\n",
    "plt.savefig(\"Humidity_vs_Lat.png\")\n",
    "plt.show()"
   ]
  },
  {
   "cell_type": "markdown",
   "metadata": {},
   "source": [
    "## Latitude vs. Cloudiness Plot"
   ]
  },
  {
   "cell_type": "code",
   "execution_count": 173,
   "metadata": {},
   "outputs": [
    {
     "data": {
      "image/png": "[encoded data removed]",
      "text/plain": [
       "<Figure size 432x288 with 1 Axes>"
      ]
     },
     "metadata": {
      "needs_background": "light"
     },
     "output_type": "display_data"
    }
   ],
   "source": [
    "clean_city_data.plot.scatter(x=\"Lat\", y=\"Cloudiness\", alpha=1.0)\n",
    "#plt.scatter(x, y)\n",
    "plt.xlabel(\"Lat\")\n",
    "plt.ylabel(\"Cloudiness\")\n",
    "plt.title('City Latitude vs. Cloudiness (05/3/21)')\n",
    "plt.grid()\n",
    "plt.savefig(\"Cloudiness_vs_Lat.png\")\n",
    "plt.show()"
   ]
  },
  {
   "cell_type": "markdown",
   "metadata": {},
   "source": [
    "## Latitude vs. Wind Speed Plot"
   ]
  },
  {
   "cell_type": "code",
   "execution_count": 172,
   "metadata": {},
   "outputs": [
    {
     "data": {
      "image/png": "[encoded data removed]",
      "text/plain": [
       "<Figure size 432x288 with 1 Axes>"
      ]
     },
     "metadata": {
      "needs_background": "light"
     },
     "output_type": "display_data"
    }
   ],
   "source": [
    "clean_city_data.plot.scatter(x=\"Lat\", y=\"Windspeed\", alpha=1.0)\n",
    "#plt.scatter(x, y)\n",
    "plt.xlabel(\"Lat\")\n",
    "plt.ylabel(\"Windspeed\")\n",
    "plt.title('City Latitude vs. Windspeed (05/3/21)')\n",
    "plt.grid()\n",
    "plt.savefig(\"Wind_speed_vs_Lat.png\")\n",
    "plt.show()"
   ]
  },
  {
   "cell_type": "markdown",
   "metadata": {},
   "source": [
    "## Linear Regression"
   ]
  },
  {
   "cell_type": "code",
   "execution_count": 155,
   "metadata": {},
   "outputs": [
    {
     "data": {
      "image/png": "[encoded data removed]",
      "text/plain": [
       "<Figure size 432x288 with 1 Axes>"
      ]
     },
     "metadata": {
      "needs_background": "light"
     },
     "output_type": "display_data"
    }
   ],
   "source": [
    "x_values = clean_city_data[(\"Lat\")]\n",
    "y_values = clean_city_data[(\"Max Temp\")]\n",
    "(slope, intercept, rvalue, pvalue, stderr) = linregress(x_values, y_values)\n",
    "regress_values = x_values * slope + intercept\n",
    "line_eq = \"y = \" + str(round(slope,2)) + \"x + \" + str(round(intercept,2))\n",
    "plt.scatter(x_values,y_values)\n",
    "plt.plot(x_values,regress_values,\"r-\")\n",
    "plt.annotate(line_eq,(10,.75),fontsize=15,color=\"red\")\n",
    "plt.title(\"Lat vs.Max Temp Regress (05/3/21)\")\n",
    "plt.xlabel(\"Lat\")\n",
    "plt.ylabel(\"Max Temp\")\n",
    "plt.savefig(\"Max Temp_vs_Lat_Regress.png\")\n",
    "plt.show()\n"
   ]
  },
  {
   "cell_type": "markdown",
   "metadata": {},
   "source": [
    "####  Northern Hemisphere - Max Temp vs. Latitude Linear Regression"
   ]
  },
  {
   "cell_type": "code",
   "execution_count": 156,
   "metadata": {},
   "outputs": [],
   "source": [
    "nhdata=clean_city_data\n",
    "nhdata=nhdata[nhdata.Lat > 0]"
   ]
  },
  {
   "cell_type": "code",
   "execution_count": 157,
   "metadata": {},
   "outputs": [
    {
     "data": {
      "image/png": "[encoded data removed]",
      "text/plain": [
       "<Figure size 432x288 with 1 Axes>"
      ]
     },
     "metadata": {
      "needs_background": "light"
     },
     "output_type": "display_data"
    }
   ],
   "source": [
    "x_values = nhdata[(\"Lat\")]\n",
    "y_values = nhdata[(\"Max Temp\")]\n",
    "(slope, intercept, rvalue, pvalue, stderr) = linregress(x_values, y_values)\n",
    "regress_values = x_values * slope + intercept\n",
    "line_eq = \"y = \" + str(round(slope,2)) + \"x + \" + str(round(intercept,2))\n",
    "plt.scatter(x_values,y_values)\n",
    "plt.plot(x_values,regress_values,\"r-\")\n",
    "plt.annotate(line_eq,(10,.75),fontsize=15,color=\"red\")\n",
    "plt.title(\"Lat vs.Max Temp Regress (05/3/21)\")\n",
    "plt.xlabel(\"Northern hemisphere\")\n",
    "plt.ylabel(\"Max Temp\")\n",
    "plt.savefig(\"Max Temp_vs_Lat_Regress.png\")\n",
    "plt.show()\n"
   ]
  },
  {
   "cell_type": "markdown",
   "metadata": {},
   "source": [
    "####  Southern Hemisphere - Max Temp vs. Latitude Linear Regression"
   ]
  },
  {
   "cell_type": "code",
   "execution_count": 158,
   "metadata": {},
   "outputs": [],
   "source": [
    "shdata=clean_city_data\n",
    "shdata=shdata[shdata.Lat < 0]\n"
   ]
  },
  {
   "cell_type": "code",
   "execution_count": 159,
   "metadata": {},
   "outputs": [
    {
     "data": {
      "image/png": "[encoded data removed]",
      "text/plain": [
       "<Figure size 432x288 with 1 Axes>"
      ]
     },
     "metadata": {
      "needs_background": "light"
     },
     "output_type": "display_data"
    }
   ],
   "source": [
    "x_values = shdata[(\"Lat\")]\n",
    "y_values = shdata[(\"Max Temp\")]\n",
    "(slope, intercept, rvalue, pvalue, stderr) = linregress(x_values, y_values)\n",
    "regress_values = x_values * slope + intercept\n",
    "line_eq = \"y = \" + str(round(slope,2)) + \"x + \" + str(round(intercept,2))\n",
    "plt.scatter(x_values,y_values)\n",
    "plt.plot(x_values,regress_values,\"r-\")\n",
    "plt.annotate(line_eq,(10,.75),fontsize=15,color=\"red\")\n",
    "plt.title(\"Lat vs.Max Temp Regress (05/3/21)\")\n",
    "plt.xlabel(\"Southern hemisphere\")\n",
    "plt.ylabel(\"Max Temp\")\n",
    "plt.savefig(\"Max Temp_vs_Lat_Regress.png\")\n",
    "plt.show()"
   ]
  },
  {
   "cell_type": "markdown",
   "metadata": {},
   "source": [
    "####  Northern Hemisphere - Humidity (%) vs. Latitude Linear Regression"
   ]
  },
  {
   "cell_type": "code",
   "execution_count": 160,
   "metadata": {},
   "outputs": [],
   "source": [
    "nhdata=clean_city_data\n",
    "nhdata=nhdata[nhdata.Lat > 0]"
   ]
  },
  {
   "cell_type": "code",
   "execution_count": 161,
   "metadata": {},
   "outputs": [
    {
     "data": {
      "image/png": "[encoded data removed]",
      "text/plain": [
       "<Figure size 432x288 with 1 Axes>"
      ]
     },
     "metadata": {
      "needs_background": "light"
     },
     "output_type": "display_data"
    }
   ],
   "source": [
    "x_values = nhdata[(\"Lat\")]\n",
    "y_values = nhdata[(\"Humidity\")]\n",
    "(slope, intercept, rvalue, pvalue, stderr) = linregress(x_values, y_values)\n",
    "regress_values = x_values * slope + intercept\n",
    "line_eq = \"y = \" + str(round(slope,2)) + \"x + \" + str(round(intercept,2))\n",
    "plt.scatter(x_values,y_values)\n",
    "plt.plot(x_values,regress_values,\"r-\")\n",
    "plt.annotate(line_eq,(10,.75),fontsize=15,color=\"red\")\n",
    "plt.title(\"Lat vs. Humidity % Regress (05/3/21)\")\n",
    "plt.xlabel(\"Northern hemisphere\")\n",
    "plt.ylabel(\" Humidity %\")\n",
    "plt.savefig(\"Humidity_vs_Lat_Regress.png\")\n",
    "plt.show()"
   ]
  },
  {
   "cell_type": "markdown",
   "metadata": {},
   "source": [
    "####  Southern Hemisphere - Humidity (%) vs. Latitude Linear Regression"
   ]
  },
  {
   "cell_type": "code",
   "execution_count": 162,
   "metadata": {},
   "outputs": [],
   "source": [
    "shdata=clean_city_data\n",
    "shdata=shdata[shdata.Lat < 0]"
   ]
  },
  {
   "cell_type": "code",
   "execution_count": 163,
   "metadata": {},
   "outputs": [
    {
     "data": {
      "image/png": "[encoded data removed]",
      "text/plain": [
       "<Figure size 432x288 with 1 Axes>"
      ]
     },
     "metadata": {
      "needs_background": "light"
     },
     "output_type": "display_data"
    }
   ],
   "source": [
    "x_values = shdata[(\"Lat\")]\n",
    "y_values = shdata[(\"Humidity\")]\n",
    "(slope, intercept, rvalue, pvalue, stderr) = linregress(x_values, y_values)\n",
    "regress_values = x_values * slope + intercept\n",
    "line_eq = \"y = \" + str(round(slope,2)) + \"x + \" + str(round(intercept,2))\n",
    "plt.scatter(x_values,y_values)\n",
    "plt.plot(x_values,regress_values,\"r-\")\n",
    "plt.annotate(line_eq,(10,.75),fontsize=15,color=\"red\")\n",
    "plt.title(\"Lat vs. Humidity % Regress (05/3/21)\")\n",
    "plt.xlabel(\"Southern hemisphere\")\n",
    "plt.ylabel(\"Humidity\")\n",
    "plt.savefig(\"Max Temp_vs_Lat_Regress.png\")\n",
    "plt.show()"
   ]
  },
  {
   "cell_type": "markdown",
   "metadata": {},
   "source": [
    "####  Northern Hemisphere - Cloudiness (%) vs. Latitude Linear Regression"
   ]
  },
  {
   "cell_type": "code",
   "execution_count": 164,
   "metadata": {},
   "outputs": [],
   "source": [
    "nhdata=clean_city_data\n",
    "nhdata=nhdata[nhdata.Lat > 0]"
   ]
  },
  {
   "cell_type": "code",
   "execution_count": 165,
   "metadata": {},
   "outputs": [
    {
     "data": {
      "image/png": "[encoded data removed]",
      "text/plain": [
       "<Figure size 432x288 with 1 Axes>"
      ]
     },
     "metadata": {
      "needs_background": "light"
     },
     "output_type": "display_data"
    }
   ],
   "source": [
    "x_values = nhdata[(\"Lat\")]\n",
    "y_values = nhdata[(\"Cloudiness\")]\n",
    "(slope, intercept, rvalue, pvalue, stderr) = linregress(x_values, y_values)\n",
    "regress_values = x_values * slope + intercept\n",
    "line_eq = \"y = \" + str(round(slope,2)) + \"x + \" + str(round(intercept,2))\n",
    "plt.scatter(x_values,y_values)\n",
    "plt.plot(x_values,regress_values,\"r-\")\n",
    "plt.annotate(line_eq,(10,1),fontsize=15,color=\"red\")\n",
    "plt.title(\"Lat vs. Cloudiness Regress\")\n",
    "plt.xlabel(\"Southern hemisphere\")\n",
    "plt.ylabel(\"Cloudiness\")\n",
    "plt.savefig(\"Cloudiness_vs_Lat_Regress.png\")\n",
    "plt.show()"
   ]
  },
  {
   "cell_type": "markdown",
   "metadata": {},
   "source": [
    "####  Southern Hemisphere - Cloudiness (%) vs. Latitude Linear Regression"
   ]
  },
  {
   "cell_type": "code",
   "execution_count": 166,
   "metadata": {},
   "outputs": [],
   "source": [
    "shdata=clean_city_data\n",
    "shdata=shdata[shdata.Lat < 0]"
   ]
  },
  {
   "cell_type": "code",
   "execution_count": 167,
   "metadata": {},
   "outputs": [
    {
     "data": {
      "image/png": "[encoded data removed]",
      "text/plain": [
       "<Figure size 432x288 with 1 Axes>"
      ]
     },
     "metadata": {
      "needs_background": "light"
     },
     "output_type": "display_data"
    }
   ],
   "source": [
    "x_values = shdata[(\"Lat\")]\n",
    "y_values = shdata[(\"Cloudiness\")]\n",
    "(slope, intercept, rvalue, pvalue, stderr) = linregress(x_values, y_values)\n",
    "regress_values = x_values * slope + intercept\n",
    "line_eq = \"y = \" + str(round(slope,2)) + \"x + \" + str(round(intercept,2))\n",
    "plt.scatter(x_values,y_values)\n",
    "plt.plot(x_values,regress_values,\"r-\")\n",
    "plt.annotate(line_eq,(10,.75),fontsize=15,color=\"red\")\n",
    "plt.title(\"Lat vs.Cloudiness Regress\")\n",
    "plt.xlabel(\"Southern hemisphere\")\n",
    "plt.ylabel(\"Cloudiness\")\n",
    "plt.savefig(\"Cloudiness_vs_Lat_Regress.png\")\n",
    "plt.show()"
   ]
  },
  {
   "cell_type": "markdown",
   "metadata": {},
   "source": [
    "####  Northern Hemisphere - Wind Speed (mph) vs. Latitude Linear Regression"
   ]
  },
  {
   "cell_type": "code",
   "execution_count": 168,
   "metadata": {},
   "outputs": [],
   "source": [
    "nhdata=clean_city_data\n",
    "nhdata=nhdata[nhdata.Lat > 0]"
   ]
  },
  {
   "cell_type": "code",
   "execution_count": 169,
   "metadata": {},
   "outputs": [
    {
     "data": {
      "image/png": "[encoded data removed]",
      "text/plain": [
       "<Figure size 432x288 with 1 Axes>"
      ]
     },
     "metadata": {
      "needs_background": "light"
     },
     "output_type": "display_data"
    }
   ],
   "source": [
    "x_values = nhdata[(\"Lat\")]\n",
    "y_values = nhdata[(\"Windspeed\")]\n",
    "(slope, intercept, rvalue, pvalue, stderr) = linregress(x_values, y_values)\n",
    "regress_values = x_values * slope + intercept\n",
    "line_eq = \"y = \" + str(round(slope,2)) + \"x + \" + str(round(intercept,2))\n",
    "plt.scatter(x_values,y_values)\n",
    "plt.plot(x_values,regress_values,\"r-\")\n",
    "plt.annotate(line_eq,(10,.75),fontsize=15,color=\"red\")\n",
    "plt.title(\"Lat vs. Wind speed (mph) Regress\")\n",
    "plt.xlabel(\"Southern hemisphere\")\n",
    "plt.ylabel(\"Max Temp\")\n",
    "plt.savefig(\"Max Temp_vs_Lat_Regress.png\")\n",
    "plt.show()"
   ]
  },
  {
   "cell_type": "markdown",
   "metadata": {},
   "source": [
    "####  Southern Hemisphere - Wind Speed (mph) vs. Latitude Linear Regression"
   ]
  },
  {
   "cell_type": "code",
   "execution_count": 170,
   "metadata": {},
   "outputs": [],
   "source": [
    "shdata=clean_city_data\n",
    "shdata=shdata[shdata.Lat < 0]"
   ]
  },
  {
   "cell_type": "code",
   "execution_count": 171,
   "metadata": {},
   "outputs": [
    {
     "data": {
      "image/png": "[encoded data removed]",
      "text/plain": [
       "<Figure size 432x288 with 1 Axes>"
      ]
     },
     "metadata": {
      "needs_background": "light"
     },
     "output_type": "display_data"
    }
   ],
   "source": [
    "x_values = shdata[(\"Lat\")]\n",
    "y_values = shdata[(\"Windspeed\")]\n",
    "(slope, intercept, rvalue, pvalue, stderr) = linregress(x_values, y_values)\n",
    "regress_values = x_values * slope + intercept\n",
    "line_eq = \"y = \" + str(round(slope,2)) + \"x + \" + str(round(intercept,2))\n",
    "plt.scatter(x_values,y_values)\n",
    "plt.plot(x_values,regress_values,\"r-\")\n",
    "plt.annotate(line_eq,(10,.75),fontsize=15,color=\"red\")\n",
    "plt.title(\"Lat vs. Wind speed (mph) Regress\")\n",
    "plt.xlabel(\"Southern hemisphere\")\n",
    "plt.ylabel(\"Windspeed\")\n",
    "plt.savefig(\"Windspeed_vs_Lat_Regress.png\")\n",
    "plt.show()"
   ]
  },
  {
   "cell_type": "code",
   "execution_count": null,
   "metadata": {},
   "outputs": [],
   "source": []
  },
  {
   "cell_type": "code",
   "execution_count": null,
   "metadata": {},
   "outputs": [],
   "source": []
  }
 ],
 "metadata": {
  "anaconda-cloud": {},
  "kernel_info": {
   "name": "python3"
  },
  "kernelspec": {
   "display_name": "Python [conda env:PythonData]",
   "language": "python",
   "name": "conda-env-PythonData-py"
  },
  "language_info": {
   "codemirror_mode": {
    "name": "ipython",
    "version": 3
   },
   "file_extension": ".py",
   "mimetype": "text/x-python",
   "name": "python",
   "nbconvert_exporter": "python",
   "pygments_lexer": "ipython3",
   "version": "3.6.10"
  },
  "latex_envs": {
   "LaTeX_envs_menu_present": true,
   "autoclose": false,
   "autocomplete": true,
   "bibliofile": "biblio.bib",
   "cite_by": "apalike",
   "current_citInitial": 1,
   "eqLabelWithNumbers": true,
   "eqNumInitial": 1,
   "hotkeys": {
    "equation": "Ctrl-E",
    "itemize": "Ctrl-I"
   },
   "labels_anchors": false,
   "latex_user_defs": false,
   "report_style_numbering": false,
   "user_envs_cfg": false
  },
  "nteract": {
   "version": "0.12.3"
  }
 },
 "nbformat": 4,
 "nbformat_minor": 2
}
